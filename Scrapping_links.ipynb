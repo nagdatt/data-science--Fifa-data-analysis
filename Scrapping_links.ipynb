{
 "cells": [
  {
   "cell_type": "code",
   "execution_count": 45,
   "id": "d6ecf6c3",
   "metadata": {},
   "outputs": [],
   "source": [
    "import requests\n",
    "import pandas as pd\n",
    "from bs4 import BeautifulSoup as bs4\n"
   ]
  },
  {
   "cell_type": "code",
   "execution_count": 46,
   "id": "92f99c8c",
   "metadata": {},
   "outputs": [],
   "source": [
    "URL=\"https://www.fifplay.com/fifa-22/players/?page=\"+str(1)\n",
    "data=requests.get(URL)\n",
    "data=data.content\n",
    "data=bs4(data,\"html5lib\")\n",
    "data=data.find_all(id=\"foot\")"
   ]
  },
  {
   "cell_type": "code",
   "execution_count": 37,
   "id": "1395fec8",
   "metadata": {},
   "outputs": [
    {
     "data": {
      "text/plain": [
       "'Right'"
      ]
     },
     "execution_count": 37,
     "metadata": {},
     "output_type": "execute_result"
    }
   ],
   "source": [
    "data[0].text.split(\"\\n\")[1]"
   ]
  },
  {
   "cell_type": "markdown",
   "id": "463f57ae",
   "metadata": {},
   "source": [
    "# getting links for the data"
   ]
  },
  {
   "cell_type": "code",
   "execution_count": 38,
   "id": "7033aeeb",
   "metadata": {},
   "outputs": [],
   "source": [
    "all_links=[]\n",
    "all_foots=[]\n",
    "for i in range(1,30):\n",
    "    URL=\"https://www.fifplay.com/fifa-22/players/?page=\"+str(i)\n",
    "    \n",
    "    data=requests.get(URL)\n",
    "    data=data.content\n",
    "    data=bs4(data,\"html5lib\")\n",
    "    footer=data.find_all(id=\"foot\")\n",
    "   \n",
    "    for d in range(len(footer)):\n",
    "        #footer[d]=footer[d].split(\"\\n\")[1]\n",
    "        footer[d]=footer[d].text.split(\"\\n\")[1]\n",
    "    data=data.find_all(class_=\"name\")\n",
    "    all_foots.extend(footer)\n",
    "    for d in data:\n",
    "        all_links.append(d.a[\"href\"])\n"
   ]
  },
  {
   "cell_type": "code",
   "execution_count": 40,
   "id": "cb476437",
   "metadata": {},
   "outputs": [
    {
     "data": {
      "text/plain": [
       "1450"
      ]
     },
     "execution_count": 40,
     "metadata": {},
     "output_type": "execute_result"
    }
   ],
   "source": [
    "len(all_foots)"
   ]
  },
  {
   "cell_type": "code",
   "execution_count": 41,
   "id": "bcfa8f2d",
   "metadata": {},
   "outputs": [],
   "source": [
    "data={\"All links\":all_links,\"Foot\":all_foots}"
   ]
  },
  {
   "cell_type": "code",
   "execution_count": 42,
   "id": "02562578",
   "metadata": {},
   "outputs": [],
   "source": [
    "data_frame=pd.DataFrame(data)"
   ]
  },
  {
   "cell_type": "code",
   "execution_count": 43,
   "id": "81d0297a",
   "metadata": {},
   "outputs": [
    {
     "data": {
      "text/html": [
       "<div>\n",
       "<style scoped>\n",
       "    .dataframe tbody tr th:only-of-type {\n",
       "        vertical-align: middle;\n",
       "    }\n",
       "\n",
       "    .dataframe tbody tr th {\n",
       "        vertical-align: top;\n",
       "    }\n",
       "\n",
       "    .dataframe thead th {\n",
       "        text-align: right;\n",
       "    }\n",
       "</style>\n",
       "<table border=\"1\" class=\"dataframe\">\n",
       "  <thead>\n",
       "    <tr style=\"text-align: right;\">\n",
       "      <th></th>\n",
       "      <th>All links</th>\n",
       "      <th>Foot</th>\n",
       "    </tr>\n",
       "  </thead>\n",
       "  <tbody>\n",
       "    <tr>\n",
       "      <th>0</th>\n",
       "      <td>https://www.fifplay.com/fifa-22/players/246525...</td>\n",
       "      <td>Right</td>\n",
       "    </tr>\n",
       "    <tr>\n",
       "      <th>1</th>\n",
       "      <td>https://www.fifplay.com/fifa-22/players/237067...</td>\n",
       "      <td>Right</td>\n",
       "    </tr>\n",
       "    <tr>\n",
       "      <th>2</th>\n",
       "      <td>https://www.fifplay.com/fifa-22/players/246514...</td>\n",
       "      <td>Left</td>\n",
       "    </tr>\n",
       "    <tr>\n",
       "      <th>3</th>\n",
       "      <td>https://www.fifplay.com/fifa-22/players/100851...</td>\n",
       "      <td>Right</td>\n",
       "    </tr>\n",
       "    <tr>\n",
       "      <th>4</th>\n",
       "      <td>https://www.fifplay.com/fifa-22/players/100821...</td>\n",
       "      <td>Left</td>\n",
       "    </tr>\n",
       "    <tr>\n",
       "      <th>...</th>\n",
       "      <td>...</td>\n",
       "      <td>...</td>\n",
       "    </tr>\n",
       "    <tr>\n",
       "      <th>1445</th>\n",
       "      <td>https://www.fifplay.com/fifa-22/players/505521...</td>\n",
       "      <td>Right</td>\n",
       "    </tr>\n",
       "    <tr>\n",
       "      <th>1446</th>\n",
       "      <td>https://www.fifplay.com/fifa-22/players/505205...</td>\n",
       "      <td>Right</td>\n",
       "    </tr>\n",
       "    <tr>\n",
       "      <th>1447</th>\n",
       "      <td>https://www.fifplay.com/fifa-22/players/673607...</td>\n",
       "      <td>Right</td>\n",
       "    </tr>\n",
       "    <tr>\n",
       "      <th>1448</th>\n",
       "      <td>https://www.fifplay.com/fifa-22/players/673309...</td>\n",
       "      <td>Right</td>\n",
       "    </tr>\n",
       "    <tr>\n",
       "      <th>1449</th>\n",
       "      <td>https://www.fifplay.com/fifa-22/players/505372...</td>\n",
       "      <td>Right</td>\n",
       "    </tr>\n",
       "  </tbody>\n",
       "</table>\n",
       "<p>1450 rows × 2 columns</p>\n",
       "</div>"
      ],
      "text/plain": [
       "                                              All links   Foot\n",
       "0     https://www.fifplay.com/fifa-22/players/246525...  Right\n",
       "1     https://www.fifplay.com/fifa-22/players/237067...  Right\n",
       "2     https://www.fifplay.com/fifa-22/players/246514...   Left\n",
       "3     https://www.fifplay.com/fifa-22/players/100851...  Right\n",
       "4     https://www.fifplay.com/fifa-22/players/100821...   Left\n",
       "...                                                 ...    ...\n",
       "1445  https://www.fifplay.com/fifa-22/players/505521...  Right\n",
       "1446  https://www.fifplay.com/fifa-22/players/505205...  Right\n",
       "1447  https://www.fifplay.com/fifa-22/players/673607...  Right\n",
       "1448  https://www.fifplay.com/fifa-22/players/673309...  Right\n",
       "1449  https://www.fifplay.com/fifa-22/players/505372...  Right\n",
       "\n",
       "[1450 rows x 2 columns]"
      ]
     },
     "execution_count": 43,
     "metadata": {},
     "output_type": "execute_result"
    }
   ],
   "source": [
    "data_frame"
   ]
  },
  {
   "cell_type": "code",
   "execution_count": 44,
   "id": "01fd5e1e",
   "metadata": {},
   "outputs": [],
   "source": [
    "data_frame.to_excel(\"All players data link.xlsx\",index=False)"
   ]
  },
  {
   "cell_type": "code",
   "execution_count": null,
   "id": "a72fa7c7",
   "metadata": {},
   "outputs": [],
   "source": []
  }
 ],
 "metadata": {
  "kernelspec": {
   "display_name": "Python 3 (ipykernel)",
   "language": "python",
   "name": "python3"
  },
  "language_info": {
   "codemirror_mode": {
    "name": "ipython",
    "version": 3
   },
   "file_extension": ".py",
   "mimetype": "text/x-python",
   "name": "python",
   "nbconvert_exporter": "python",
   "pygments_lexer": "ipython3",
   "version": "3.9.7"
  }
 },
 "nbformat": 4,
 "nbformat_minor": 5
}
